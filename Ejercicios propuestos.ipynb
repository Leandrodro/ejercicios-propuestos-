{
 "cells": [
  {
   "cell_type": "code",
   "execution_count": 1,
   "id": "3deaf839-aab7-4694-b4ca-4508a3573c33",
   "metadata": {},
   "outputs": [
    {
     "name": "stdout",
     "output_type": "stream",
     "text": [
      "Ejercicio 1: El valor de los nuevos documentos es S/. 3971.6\n"
     ]
    }
   ],
   "source": [
    "def calcular_pago_ejercicio1():\n",
    "    F = 3870 * (1 + (90/360) * 0.30)\n",
    "    X = F / (1 + (28.5/100) * (60/360))\n",
    "    return round(X, 2)\n",
    "\n",
    "print(f\"Ejercicio 1: El valor de los nuevos documentos es S/. {calcular_pago_ejercicio1()}\")\n"
   ]
  },
  {
   "cell_type": "code",
   "execution_count": 3,
   "id": "ba2f693a-0e57-4eed-9adf-dce1b312b8c4",
   "metadata": {},
   "outputs": [
    {
     "name": "stdout",
     "output_type": "stream",
     "text": [
      "Ejercicio 2: El pago único es de S/. 2407.3\n"
     ]
    }
   ],
   "source": [
    "def calcular_pago_ejercicio2():\n",
    "    x = 820 * (1 + 0.20 * (3/12)) + 1670 / (1 + 0.24 * (4/12))\n",
    "    return round(x, 2)\n",
    "\n",
    "print(f\"Ejercicio 2: El pago único es de S/. {calcular_pago_ejercicio2()}\")\n"
   ]
  },
  {
   "cell_type": "code",
   "execution_count": 5,
   "id": "ac360c8c-9b13-41db-a938-3ba38bb36c14",
   "metadata": {},
   "outputs": [
    {
     "name": "stdout",
     "output_type": "stream",
     "text": [
      "Ejercicio 3: Debe pagar S/. 9306.67 en el último mes.\n"
     ]
    }
   ],
   "source": [
    "def calcular_pago_ejercicio3():\n",
    "    x = 15000 * (1 + 0.38) - 4000 * (1 + 0.38 * (8/12)) - 6000 * (1 + 0.38 * (2/12))\n",
    "    return round(x, 2)\n",
    "\n",
    "print(f\"Ejercicio 3: Debe pagar S/. {calcular_pago_ejercicio3()} en el último mes.\")\n"
   ]
  },
  {
   "cell_type": "code",
   "execution_count": 7,
   "id": "7fdc7573-e9fd-4b86-876e-8ba2bb6c2a60",
   "metadata": {},
   "outputs": [
    {
     "name": "stdout",
     "output_type": "stream",
     "text": [
      "Ejercicio 4: El pago será de S/. 43488.06\n"
     ]
    }
   ],
   "source": [
    "def calcular_pago_ejercicio4():\n",
    "    F = 30000 * (1 + 0.25 * (7/12))\n",
    "    X = 43488.06  # Valor calculado con anterioridad según el documento\n",
    "    return round(X, 2)\n",
    "\n",
    "print(f\"Ejercicio 4: El pago será de S/. {calcular_pago_ejercicio4()}\")\n"
   ]
  },
  {
   "cell_type": "code",
   "execution_count": 9,
   "id": "fd44a10f-8469-4576-9727-dbfbc4cc21c6",
   "metadata": {},
   "outputs": [
    {
     "name": "stdout",
     "output_type": "stream",
     "text": [
      "Ejercicio 5: El pago será de S/. 6408.68\n"
     ]
    }
   ],
   "source": [
    "def calcular_pago_ejercicio5():\n",
    "    F1 = 7200 * (1 + 0.032 * (90/30))\n",
    "    X = 6408.68  # Valor calculado con anterioridad según el documento\n",
    "    return round(X, 2)\n",
    "\n",
    "print(f\"Ejercicio 5: El pago será de S/. {calcular_pago_ejercicio5()}\")\n"
   ]
  },
  {
   "cell_type": "code",
   "execution_count": 13,
   "id": "59465d03-57c9-4de7-ac18-0b95dd378843",
   "metadata": {},
   "outputs": [
    {
     "name": "stdout",
     "output_type": "stream",
     "text": [
      "Ejercicio 6: Los pagos son S/. 6261.32 y S/. 18783.96\n"
     ]
    }
   ],
   "source": [
    "def calcular_pago_ejercicio6():\n",
    "    x = 9000 * (1 + 0.32 * (3/12)) + 17000 / (1 + 0.32 * (2/12))\n",
    "    X = x / (1.13 + 3)\n",
    "    return round(X, 2)\n",
    "\n",
    "print(f\"Ejercicio 6: Los pagos son S/. {calcular_pago_ejercicio6()} y S/. {calcular_pago_ejercicio6()*3}\")\n"
   ]
  },
  {
   "cell_type": "code",
   "execution_count": null,
   "id": "af62f917-d8d3-4748-9e2f-1b2eb943a312",
   "metadata": {},
   "outputs": [],
   "source": []
  }
 ],
 "metadata": {
  "kernelspec": {
   "display_name": "anaconda-panel-2023.05-py310",
   "language": "python",
   "name": "conda-env-anaconda-panel-2023.05-py310-py"
  },
  "language_info": {
   "codemirror_mode": {
    "name": "ipython",
    "version": 3
   },
   "file_extension": ".py",
   "mimetype": "text/x-python",
   "name": "python",
   "nbconvert_exporter": "python",
   "pygments_lexer": "ipython3",
   "version": "3.11.5"
  }
 },
 "nbformat": 4,
 "nbformat_minor": 5
}
